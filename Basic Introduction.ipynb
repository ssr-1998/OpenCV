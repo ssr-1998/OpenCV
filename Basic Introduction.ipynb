{
 "cells": [
  {
   "cell_type": "code",
   "execution_count": 2,
   "metadata": {},
   "outputs": [
    {
     "name": "stderr",
     "output_type": "stream",
     "text": [
      "ERROR: Could not find a version that satisfies the requirement cv2 (from versions: none)\n",
      "ERROR: No matching distribution found for cv2\n"
     ]
    }
   ],
   "source": [
    "!pip install cv2"
   ]
  },
  {
   "cell_type": "code",
   "execution_count": 1,
   "metadata": {},
   "outputs": [
    {
     "ename": "ModuleNotFoundError",
     "evalue": "No module named 'cv2'",
     "output_type": "error",
     "traceback": [
      "\u001b[1;31m---------------------------------------------------------------------------\u001b[0m",
      "\u001b[1;31mModuleNotFoundError\u001b[0m                       Traceback (most recent call last)",
      "\u001b[1;32m<ipython-input-1-06cf5cd71a62>\u001b[0m in \u001b[0;36m<module>\u001b[1;34m\u001b[0m\n\u001b[0;32m      2\u001b[0m \u001b[1;32mimport\u001b[0m \u001b[0mpandas\u001b[0m \u001b[1;32mas\u001b[0m \u001b[0mpd\u001b[0m\u001b[1;33m\u001b[0m\u001b[1;33m\u001b[0m\u001b[0m\n\u001b[0;32m      3\u001b[0m \u001b[1;32mimport\u001b[0m \u001b[0mmatplotlib\u001b[0m\u001b[1;33m.\u001b[0m\u001b[0mpyplot\u001b[0m \u001b[1;32mas\u001b[0m \u001b[0mplt\u001b[0m\u001b[1;33m\u001b[0m\u001b[1;33m\u001b[0m\u001b[0m\n\u001b[1;32m----> 4\u001b[1;33m \u001b[1;32mimport\u001b[0m \u001b[0mcv2\u001b[0m\u001b[1;33m\u001b[0m\u001b[1;33m\u001b[0m\u001b[0m\n\u001b[0m",
      "\u001b[1;31mModuleNotFoundError\u001b[0m: No module named 'cv2'"
     ]
    }
   ],
   "source": [
    "import numpy as np\n",
    "import pandas as pd\n",
    "import matplotlib.pyplot as plt\n",
    "import cv2"
   ]
  },
  {
   "cell_type": "markdown",
   "metadata": {},
   "source": [
    "**1.** **cv2.waitKey() :-** This function waits for a keyboard interrupt for a specific amount of time in milliseconds. Here we passed 0 (zero) which specifies that it has to wait for an indefinite amount of time until we press any key from keyboard and the execution continues.<br>\n",
    "**2.** **cv2.destroyAllWindows() :-** This function closes all the windows in which images are displayed.<br>\n",
    "**3.** **cv2.imwrite() :-** This function saves the image in our local disk by passing 1st argument as the file name in string & 2nd argument is the image variable which consists of image data to be saved in local disk."
   ]
  },
  {
   "cell_type": "code",
   "execution_count": null,
   "metadata": {},
   "outputs": [],
   "source": [
    "# plt.imshow() will just show image on a graph but if u want to see image on a different window we can use cv2 instead of plt.\n",
    "image = cv2.imread(\"images/car_green_screen.jpg\")\n",
    "plt.imshow(image)\n",
    "# cv2.imshow(\"Image\",image)\n",
    "print(\"The Height of Image is\",image.shape[0], \", width is\",image.shape[1], \"& the channels/layers are\", image.shape[2])\n",
    "# cv2.waitKey()\n",
    "# cv2.destroyAllWindows()\n",
    "plt.show()"
   ]
  },
  {
   "cell_type": "code",
   "execution_count": null,
   "metadata": {},
   "outputs": [],
   "source": [
    "image2 = cv2.imread(\"images/car_green_screen.jpg\")\n",
    "print(\"The Height of Image is\",image2.shape[0], \", width is\",image2.shape[1], \"& the channels/layers are\", image2.shape[2])\n",
    "image2 = cv2.cvtColor(image2, cv2.COLOR_BGR2RGB)\n",
    "plt.imshow(image2)\n",
    "plt.show()"
   ]
  },
  {
   "cell_type": "code",
   "execution_count": null,
   "metadata": {},
   "outputs": [],
   "source": [
    "# For converting the picture from BGR(Blue-Green-Red) to Gray, we can use 0 while loading image like :-\n",
    "# image3 = cv2.imread(\"images/car_green_screen.jpg\", 0), else :-\n",
    "\n",
    "image3 = cv2.imread(\"images/car_green_screen.jpg\")\n",
    "image3 = cv2.cvtColor(image3, cv2.COLOR_BGR2RGB)\n",
    "gray = cv2.cvtColor(image3, cv2.COLOR_RGB2GRAY)\n",
    "print(\"The Height of Image is\",gray.shape[0], \", width is\",gray.shape[1], \"& the channel/layer is\", 1)\n",
    "plt.imshow(gray, cmap=\"gray\")\n",
    "plt.show()"
   ]
  },
  {
   "cell_type": "markdown",
   "metadata": {},
   "source": [
    "**Way to save an edited pic in any format :-**"
   ]
  },
  {
   "cell_type": "code",
   "execution_count": null,
   "metadata": {},
   "outputs": [],
   "source": [
    "cv2.imwrite(\"Gray Car.jpeg\", gray)"
   ]
  },
  {
   "cell_type": "code",
   "execution_count": null,
   "metadata": {},
   "outputs": [],
   "source": [
    "gray_car = cv2.imread(\"Gray Car.jpeg\")\n",
    "plt.imshow(gray_car)\n",
    "plt.show()"
   ]
  },
  {
   "cell_type": "markdown",
   "metadata": {},
   "source": [
    "**X==X==X==X==X==X==X==X==X==X==X==X==X==X==X==X==X==X==X==X==X==X==X==X==X==X==X==X==X==X==X==X==X==X==X==X==X==X==X**"
   ]
  },
  {
   "cell_type": "markdown",
   "metadata": {},
   "source": [
    "**Way to create an image & know about the scale of colors :-**"
   ]
  },
  {
   "cell_type": "code",
   "execution_count": null,
   "metadata": {},
   "outputs": [],
   "source": [
    "image4 = np.array([\n",
    "    [255,245,235,225,215],\n",
    "    [0,0,0,0,0],\n",
    "    [195,175,155,135,115],\n",
    "    [0,0,0,0,0],\n",
    "    [100,85,65,45,25]\n",
    "])\n",
    "\n",
    "plt.imshow(image4, cmap=\"gray\")\n",
    "print(\"The Height of Image is\",image4.shape[0], \", width is\",image4.shape[1], \"& the channel/layer is\", 1)\n",
    "plt.show()"
   ]
  },
  {
   "cell_type": "markdown",
   "metadata": {},
   "source": [
    "**X==X==X==X==X==X==X==X==X==X==X==X==X==X==X==X==X==X==X==X==X==X==X==X==X==X==X==X==X==X==X==X==X==X==X==X==X==X**"
   ]
  },
  {
   "cell_type": "markdown",
   "metadata": {},
   "source": [
    "**Now let's understand the big pixels matrix & how to separate channels from a pic :-**"
   ]
  },
  {
   "cell_type": "code",
   "execution_count": null,
   "metadata": {},
   "outputs": [],
   "source": [
    "# Reading the image\n",
    "import matplotlib.image as mpimg\n",
    "image = mpimg.imread('images/wa_state_highway.jpg')\n",
    "print(\"The Height of Image is\",image.shape[0], \", width is\",image.shape[1], \"& the channels/layers are\", image.shape[2])\n",
    "plt.imshow(image)\n",
    "plt.show()"
   ]
  },
  {
   "cell_type": "code",
   "execution_count": null,
   "metadata": {},
   "outputs": [],
   "source": [
    "# Isolate RGB channels\n",
    "r = image[:,:,0]\n",
    "g = image[:,:,1]\n",
    "b = image[:,:,2]\n",
    "\n",
    "# Visualize the individual color channels\n",
    "f, ax = plt.subplots(2,3, figsize=(20,10))\n",
    "ax[0,0].set_title('Red channel')\n",
    "ax[0,0].imshow(r)\n",
    "ax[0,1].set_title('Green channel')\n",
    "ax[0,1].imshow(g)\n",
    "ax[0,2].set_title('Blue channel')\n",
    "ax[0,2].imshow(b)\n",
    "ax[1,0].set_title('Red channel Gray')\n",
    "ax[1,0].imshow(r, cmap=\"gray\")\n",
    "ax[1,1].set_title('Green channel Gray')\n",
    "ax[1,1].imshow(g, cmap=\"gray\")\n",
    "ax[1,2].set_title('Blue channel Gray')\n",
    "ax[1,2].imshow(b, cmap=\"gray\")\n",
    "plt.show()"
   ]
  },
  {
   "cell_type": "code",
   "execution_count": null,
   "metadata": {},
   "outputs": [],
   "source": [
    "print(image[0])\n",
    "print(\"X\"+\"--X\"*40)\n",
    "print(image[0,0])\n",
    "print(\"X\"+\"--X\"*40)\n",
    "print(image[0,0,0])"
   ]
  },
  {
   "cell_type": "code",
   "execution_count": null,
   "metadata": {},
   "outputs": [],
   "source": [
    "image"
   ]
  },
  {
   "cell_type": "markdown",
   "metadata": {},
   "source": [
    "**X==X==X==X==X==X==X==X==X==X==X==X==X==X==X==X==X==X==X==X==X==X==X==X==X==X==X==X==X==X==X==X==X==X==X==X==X==X**"
   ]
  },
  {
   "cell_type": "markdown",
   "metadata": {},
   "source": [
    "In this following program after running the code if we press \"c\" key on keyboard we can save the colour file in local disk & if we press \"g\" key then it will save the that same file but in gray scale in our local disk."
   ]
  },
  {
   "cell_type": "code",
   "execution_count": null,
   "metadata": {},
   "outputs": [],
   "source": [
    "# #Reading images in color and grayscale\n",
    "# color_mclaren = cv2.imread('images/mc-laren.jpg')\n",
    "# gray_mclaren = cv2.imread('images/mc-laren.jpg',0)\n",
    "\n",
    "# #Displaying the image\n",
    "# cv2.imshow('Mc-Laren Car', color_mclaren)\n",
    "\n",
    "# #Storing the key pressed by user \n",
    "# k = cv2.waitKey(0)\n",
    "\n",
    "# #Check if user hits ‘c’ or ‘g’ key\n",
    "# if( k == ord('c') ):\n",
    "#   cv2.imwrite('color_mclaren.jpg', color_mclaren )\n",
    "#   print(\"Image saved in Original Colors\")\n",
    "#   cv2.destroyAllWindows()\n",
    "# if( k == ord('g') ):\n",
    "#   cv2.imwrite('gray_mclaren.jpg', gray_mclaren )\n",
    "#   print(\"Image saved in Gray-Scale\")\n",
    "#   cv2.destroyAllWindows()"
   ]
  },
  {
   "cell_type": "markdown",
   "metadata": {},
   "source": [
    "**X==X==X==X==X==X==X==X==X==X==X==X==X==X==X==X==X==X==X==X==X==X==X==X==X==X==X==X==X==X==X==X==X==X==X==X==X==X**"
   ]
  },
  {
   "cell_type": "code",
   "execution_count": null,
   "metadata": {},
   "outputs": [],
   "source": []
  }
 ],
 "metadata": {
  "kernelspec": {
   "display_name": "Python 3",
   "language": "python",
   "name": "python3"
  },
  "language_info": {
   "codemirror_mode": {
    "name": "ipython",
    "version": 3
   },
   "file_extension": ".py",
   "mimetype": "text/x-python",
   "name": "python",
   "nbconvert_exporter": "python",
   "pygments_lexer": "ipython3",
   "version": "3.7.6"
  }
 },
 "nbformat": 4,
 "nbformat_minor": 4
}

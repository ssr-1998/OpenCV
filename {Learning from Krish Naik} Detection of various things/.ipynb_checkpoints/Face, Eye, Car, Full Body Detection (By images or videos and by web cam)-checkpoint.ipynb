{
 "cells": [
  {
   "cell_type": "code",
   "execution_count": 1,
   "metadata": {},
   "outputs": [],
   "source": [
    "import numpy as np\n",
    "import matplotlib.pyplot as plt\n",
    "import cv2"
   ]
  },
  {
   "cell_type": "markdown",
   "metadata": {},
   "source": [
    "## Face Detection :-"
   ]
  },
  {
   "cell_type": "code",
   "execution_count": 2,
   "metadata": {},
   "outputs": [],
   "source": [
    "# import numpy as np\n",
    "# import matplotlib.pyplot as plt\n",
    "# import cv2\n",
    "# face_classifier = cv2.CascadeClassifier(\"Haarcascades Files/haarcascade_frontalface_default.xml\")\n",
    "\n",
    "# # # Different images tried :-\n",
    "# img = cv2.imread(\"image_examples/obama.jpg\")\n",
    "# # img = cv2.imread(\"image_examples/img.jpg\")\n",
    "# # img = cv2.imread(\"image_examples/Modi.jpg\")\n",
    "# # img = cv2.imread(\"image_examples/Trump.jpg\")\n",
    "# # img = cv2.imread(\"image_examples/elephant.jpg\")  # No faces found as elephant picture.\n",
    "\n",
    "# gray_img = cv2.cvtColor(img, cv2.COLOR_BGR2GRAY)  # Converting BGR channel to gray as for classifier it is easy to detect in gray channels.\n",
    "\n",
    "# face = face_classifier.detectMultiScale(gray_img, 1.3, 5)\n",
    "\n",
    "# if face is ():\n",
    "#     print(\"NO Faces Found.\")\n",
    "# else:\n",
    "#     print(\"face variable having 4 values :-\\n x-coordinate = {},\\n y-coordinate = {},\\n width = {},\\n height = {}\".format(face[0,0], face[0,1], face[0,2], face[0,3]))\n",
    "\n",
    "# # way to make a rectangle on face :-\n",
    "# for (x,y,w,h) in face:\n",
    "#     cv2.rectangle(img, (x,y), (x+w, y+h), (55,155,255), 2)\n",
    "#     cv2.imshow(\"Face Detection\", img)\n",
    "#     cv2.waitKey(0)\n",
    "# cv2.destroyAllWindows()"
   ]
  },
  {
   "cell_type": "markdown",
   "metadata": {},
   "source": [
    "## Face & Eyes Detection For Human Images:-"
   ]
  },
  {
   "cell_type": "code",
   "execution_count": 3,
   "metadata": {},
   "outputs": [],
   "source": [
    "# import numpy as np\n",
    "# import matplotlib.pyplot as plt\n",
    "# import cv2\n",
    "# eyes_classifier = cv2.CascadeClassifier(\"Haarcascades Files/haarcascade_eye.xml\")\n",
    "# face_classifier = cv2.CascadeClassifier(\"Haarcascades Files/haarcascade_frontalface_default.xml\")\n",
    "\n",
    "# # img = cv2.imread(\"image_examples/Modi.jpg\")\n",
    "# # img = cv2.imread(\"image_examples/img.jpg\")\n",
    "# img = cv2.imread(\"image_examples/Trump.jpg\")\n",
    "# gray = cv2.cvtColor(img, cv2.COLOR_BGR2GRAY)\n",
    "\n",
    "# face = face_classifier.detectMultiScale(gray, 1.3, 5)\n",
    "\n",
    "# if face is ():\n",
    "#     print(\"No Face Found\")\n",
    "# else:\n",
    "#     print(\"face variable having 4 values :-\\n x-coordinate = {},\\n y-coordinate = {},\\n width = {},\\n height = {}\".format(face[0,0], face[0,1], face[0,2], face[0,3]))\n",
    "\n",
    "# for (x,y,w,h) in face:\n",
    "#     cv2.rectangle(img, (x,y), (x+w, y+h), (150,250,2), 3)\n",
    "#     cv2.imshow(\"Face Detection\", img)\n",
    "#     cv2.waitKey(0)\n",
    "#     eyes_img = img[y:y+h, x:x+w]\n",
    "#     eyes_gray = gray[y:y+h, x:x+w]\n",
    "#     eyes = eyes_classifier.detectMultiScale(eyes_gray)\n",
    "#     for (ex, ey, ew, eh) in eyes:\n",
    "#         cv2.rectangle(eyes_img, (ex,ey), (ex+ew,ey+eh), (250,150,6), 2)\n",
    "#         cv2.imshow(\"Face & Eye Detection\", eyes_img)\n",
    "#         cv2.waitKey(0)\n",
    "# cv2.destroyAllWindows()"
   ]
  },
  {
   "cell_type": "markdown",
   "metadata": {},
   "source": [
    "## Face & Eye Detection on live webcam :-"
   ]
  },
  {
   "cell_type": "code",
   "execution_count": 5,
   "metadata": {},
   "outputs": [
    {
     "ename": "error",
     "evalue": "OpenCV(3.4.2) c:\\projects\\opencv-python\\opencv\\modules\\imgproc\\src\\color.hpp:253: error: (-215:Assertion failed) VScn::contains(scn) && VDcn::contains(dcn) && VDepth::contains(depth) in function 'cv::CvtHelper<struct cv::Set<3,4,-1>,struct cv::Set<1,-1,-1>,struct cv::Set<0,2,5>,2>::CvtHelper'\n",
     "output_type": "error",
     "traceback": [
      "\u001b[1;31m---------------------------------------------------------------------------\u001b[0m",
      "\u001b[1;31merror\u001b[0m                                     Traceback (most recent call last)",
      "\u001b[1;32m<ipython-input-5-bf6f612ec2ba>\u001b[0m in \u001b[0;36m<module>\u001b[1;34m\u001b[0m\n\u001b[0;32m      9\u001b[0m \u001b[1;32mwhile\u001b[0m \u001b[0mvideo_capture\u001b[0m\u001b[1;33m.\u001b[0m\u001b[0misOpened\u001b[0m\u001b[1;33m(\u001b[0m\u001b[1;33m)\u001b[0m\u001b[1;33m:\u001b[0m\u001b[1;33m\u001b[0m\u001b[1;33m\u001b[0m\u001b[0m\n\u001b[0;32m     10\u001b[0m     \u001b[0m_\u001b[0m\u001b[1;33m,\u001b[0m \u001b[0mframe\u001b[0m \u001b[1;33m=\u001b[0m \u001b[0mvideo_capture\u001b[0m\u001b[1;33m.\u001b[0m\u001b[0mread\u001b[0m\u001b[1;33m(\u001b[0m\u001b[1;33m)\u001b[0m\u001b[1;33m\u001b[0m\u001b[1;33m\u001b[0m\u001b[0m\n\u001b[1;32m---> 11\u001b[1;33m     \u001b[0mgray\u001b[0m \u001b[1;33m=\u001b[0m \u001b[0mcv2\u001b[0m\u001b[1;33m.\u001b[0m\u001b[0mcvtColor\u001b[0m\u001b[1;33m(\u001b[0m\u001b[0mframe\u001b[0m\u001b[1;33m,\u001b[0m \u001b[0mcv2\u001b[0m\u001b[1;33m.\u001b[0m\u001b[0mCOLOR_BGR2GRAY\u001b[0m\u001b[1;33m)\u001b[0m\u001b[1;33m\u001b[0m\u001b[1;33m\u001b[0m\u001b[0m\n\u001b[0m\u001b[0;32m     12\u001b[0m \u001b[1;33m\u001b[0m\u001b[0m\n\u001b[0;32m     13\u001b[0m     \u001b[0mface\u001b[0m \u001b[1;33m=\u001b[0m \u001b[0mface_classifier\u001b[0m\u001b[1;33m.\u001b[0m\u001b[0mdetectMultiScale\u001b[0m\u001b[1;33m(\u001b[0m\u001b[0mgray\u001b[0m\u001b[1;33m,\u001b[0m \u001b[1;36m1.2\u001b[0m\u001b[1;33m,\u001b[0m \u001b[1;36m5\u001b[0m\u001b[1;33m)\u001b[0m\u001b[1;33m\u001b[0m\u001b[1;33m\u001b[0m\u001b[0m\n",
      "\u001b[1;31merror\u001b[0m: OpenCV(3.4.2) c:\\projects\\opencv-python\\opencv\\modules\\imgproc\\src\\color.hpp:253: error: (-215:Assertion failed) VScn::contains(scn) && VDcn::contains(dcn) && VDepth::contains(depth) in function 'cv::CvtHelper<struct cv::Set<3,4,-1>,struct cv::Set<1,-1,-1>,struct cv::Set<0,2,5>,2>::CvtHelper'\n"
     ]
    }
   ],
   "source": [
    "import numpy as np\n",
    "import matplotlib.pyplot as plt\n",
    "import cv2\n",
    "face_classifier = cv2.CascadeClassifier(\"Haarcascades Files/haarcascade_frontalface_default.xml\")\n",
    "eyes_classifier = cv2.CascadeClassifier(\"Haarcascades Files/haarcascade_eye.xml\")\n",
    "\n",
    "# Doing some face & eyes detection with webcam :-\n",
    "video_capture = cv2.VideoCapture(0)  # Here, 0 means default webcam. If want to connect any secondary cam then put 1.\n",
    "while video_capture.isOpened():\n",
    "    _, frame = video_capture.read()\n",
    "    gray = cv2.cvtColor(frame, cv2.COLOR_BGR2GRAY)\n",
    "    \n",
    "    face = face_classifier.detectMultiScale(gray, 1.2, 5)\n",
    "    for (x,y,w,h) in face:\n",
    "        print([x,y,w,h])\n",
    "#         cv2.rectangle(frame, (x,y), (x+w, y+h), (255, 0, 0), 4)\n",
    "#         eyes_frame = frame[y:y+h, x:x+w]\n",
    "#         eyes_gray = gray[y:y+h, x:x+w]\n",
    "#         eyes = eyes_classifier.detectMultiScale(eyes_gray, 1.1, 3)\n",
    "#         for (ex,ey,ew,eh) in eyes:\n",
    "#             cv2.rectangle(eyes_frame, (ex,ey), (ex+ew, ey+eh), (109,5,2), 3)\n",
    "    cv2.imshow(\"Video\", frame)\n",
    "    if cv2.waitKey(1)==13:  # To exit simply press enter.\n",
    "        break\n",
    "video_capture.release()\n",
    "cv2.destroyAllWindows()"
   ]
  },
  {
   "cell_type": "markdown",
   "metadata": {},
   "source": [
    "## Detecting If People are Walking :-"
   ]
  },
  {
   "cell_type": "code",
   "execution_count": null,
   "metadata": {},
   "outputs": [],
   "source": [
    "# body_classifier = cv2.CascadeClassifier(\"Haarcascades Files/haarcascade_fullbody.xml\")\n",
    "\n",
    "# cap = cv2.VideoCapture(\"image_examples/walking.avi\")\n",
    "\n",
    "# while cap.isOpened():\n",
    "#     ret, frame = cap.read()\n",
    "#     gray = cv2.cvtColor(frame, cv2.COLOR_BGR2GRAY)\n",
    "    \n",
    "#     bodies = body_classifier.detectMultiScale(gray, 1.2, 3)\n",
    "#     for (x,y,w,h) in bodies:\n",
    "#         cv2.rectangle(frame, (x,y), (x+w, y+h), (25,2,50), 3)\n",
    "#         cv2.imshow(\"Walking People\", frame)\n",
    "        \n",
    "#     if cv2.waitKey(1) == 13:\n",
    "#         break\n",
    "# cap.release()\n",
    "# cv2.destroyAllWindows()"
   ]
  },
  {
   "cell_type": "markdown",
   "metadata": {},
   "source": [
    "## Detecting Cars :-"
   ]
  },
  {
   "cell_type": "code",
   "execution_count": null,
   "metadata": {},
   "outputs": [],
   "source": [
    "# car_classifier = cv2.CascadeClassifier(\"Haarcascades Files/haarcascade_car.xml\")\n",
    "\n",
    "# cap = cv2.VideoCapture(\"image_examples/cars.avi\")\n",
    "\n",
    "# while cap.isOpened():\n",
    "#     ret, frame = cap.read()\n",
    "#     gray = cv2.cvtColor(frame, cv2.COLOR_BGR2GRAY)\n",
    "    \n",
    "#     cars = car_classifier.detectMultiScale(gray, 1.2, 3)\n",
    "#     for (x,y,w,h) in cars:\n",
    "#         cv2.rectangle(frame, (x,y), (x+w, y+h), (205,31,199), 2)\n",
    "#         cv2.imshow(\"Car Detection\", frame)\n",
    "        \n",
    "#     if cv2.waitKey(1) == 13:\n",
    "#         break\n",
    "# cap.release()\n",
    "# cv2.destroyAllWindows()"
   ]
  },
  {
   "cell_type": "markdown",
   "metadata": {},
   "source": [
    "Enter Key : 13,<br>\n",
    "Space Bar : 32,<br>\n",
    "q key : 113,<br>\n",
    "w key : 119,<br>\n",
    "e key : 101,<br>\n",
    "r key : 114,<br>\n",
    "t key : 116,<br>\n",
    "y key : 121,<br>\n",
    "u key : 117,<br>\n",
    "i key : 105,<br>\n",
    "o key : 111,<br>\n",
    "p key : 112,<br>\n",
    "l key : 108,<br>\n",
    "k key : 107,<br>\n",
    "j key : 106,<br>\n",
    "h key : 104,<br>\n",
    "g key : 103,<br>\n",
    "f key : 102,<br>\n",
    "d key : 100,<br>\n",
    "s key : 115,<br>\n",
    "a key : 97,<br>\n",
    "z key : 122,<br>\n",
    "x key : 120,<br>\n",
    "c key : 99,<br>\n",
    "v key : 118,<br>\n",
    "b key : 98,<br>\n",
    "n key : 110,<br>\n",
    "m key : 109<br>"
   ]
  },
  {
   "cell_type": "code",
   "execution_count": null,
   "metadata": {},
   "outputs": [],
   "source": [
    "# import cv2\n",
    "# img = cv2.imread('image_examples/Trump.jpg') # load a dummy image\n",
    "# while(1):\n",
    "#     cv2.imshow('img',img)\n",
    "#     k = cv2.waitKey(33)\n",
    "#     if k==27:    # Esc key to stop\n",
    "#         break\n",
    "#     elif k==-1:  # normally -1 returned,so don't print it\n",
    "#         continue\n",
    "#     else:\n",
    "#         print(k) # else print its value"
   ]
  },
  {
   "cell_type": "code",
   "execution_count": null,
   "metadata": {},
   "outputs": [],
   "source": []
  }
 ],
 "metadata": {
  "kernelspec": {
   "display_name": "Python 3",
   "language": "python",
   "name": "python3"
  },
  "language_info": {
   "codemirror_mode": {
    "name": "ipython",
    "version": 3
   },
   "file_extension": ".py",
   "mimetype": "text/x-python",
   "name": "python",
   "nbconvert_exporter": "python",
   "pygments_lexer": "ipython3",
   "version": "3.7.4"
  }
 },
 "nbformat": 4,
 "nbformat_minor": 4
}

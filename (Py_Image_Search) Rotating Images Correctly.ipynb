{
 "cells": [
  {
   "cell_type": "code",
   "execution_count": 1,
   "metadata": {},
   "outputs": [],
   "source": [
    "import imutils\n",
    "import numpy as np\n",
    "import cv2\n",
    "import matplotlib.pyplot as plt"
   ]
  },
  {
   "cell_type": "markdown",
   "metadata": {},
   "source": [
    "## Problematic Rotation of Image :-"
   ]
  },
  {
   "cell_type": "code",
   "execution_count": 2,
   "metadata": {},
   "outputs": [],
   "source": [
    "# np.arrange() -> Returns an array with evenly spaced numbers as per the interval. {like, np.arrange(1,5,2) -> [1, 3, 5]}\n",
    "\n",
    "# Loading Image :-\n",
    "image = cv2.imread(\"Images/jeep2.jpeg\")\n",
    "image = cv2.cvtColor(image, cv2.COLOR_BGR2RGB)\n",
    "\n",
    "for angle in np.arange(0, 361, 15):\n",
    "    rotated = imutils.rotate(image, angle)\n",
    "    cv2.imshow(\"Rotated (Problematic)\", rotated)\n",
    "    cv2.waitKey(0)\n",
    "    cv2.destroyAllWindows()"
   ]
  },
  {
   "cell_type": "markdown",
   "metadata": {},
   "source": [
    "Here, as we saw that when our image is rotated some of it's edges are cut off as they go out of the frame. To solve this let's use imutils.rotate_bound()."
   ]
  },
  {
   "cell_type": "code",
   "execution_count": 6,
   "metadata": {},
   "outputs": [],
   "source": [
    "# Loading Image :-\n",
    "image = cv2.imread(\"Images/jeep2.jpeg\")\n",
    "image = cv2.cvtColor(image, cv2.COLOR_BGR2RGB)\n",
    "\n",
    "for angle in np.arange(0, 361, 15):\n",
    "    rotated = imutils.rotate_bound(image, angle)\n",
    "    cv2.imshow(\"Rotated (Correctly)\", rotated)\n",
    "    cv2.waitKey(0)\n",
    "cv2.destroyAllWindows()"
   ]
  },
  {
   "cell_type": "markdown",
   "metadata": {},
   "source": [
    "Here, as we can see the frame is automatically changing it's size to show us proper rotation of an image."
   ]
  },
  {
   "cell_type": "code",
   "execution_count": null,
   "metadata": {},
   "outputs": [],
   "source": []
  }
 ],
 "metadata": {
  "kernelspec": {
   "display_name": "Python 3",
   "language": "python",
   "name": "python3"
  },
  "language_info": {
   "codemirror_mode": {
    "name": "ipython",
    "version": 3
   },
   "file_extension": ".py",
   "mimetype": "text/x-python",
   "name": "python",
   "nbconvert_exporter": "python",
   "pygments_lexer": "ipython3",
   "version": "3.7.4"
  }
 },
 "nbformat": 4,
 "nbformat_minor": 4
}
